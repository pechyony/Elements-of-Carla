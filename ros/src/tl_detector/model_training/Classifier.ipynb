{
 "cells": [
  {
   "cell_type": "code",
   "execution_count": 1,
   "metadata": {},
   "outputs": [
    {
     "name": "stderr",
     "output_type": "stream",
     "text": [
      "/Users/vikramnagashoka/miniconda3/envs/lane_lines/lib/python3.5/site-packages/h5py/__init__.py:34: FutureWarning: Conversion of the second argument of issubdtype from `float` to `np.floating` is deprecated. In future, it will be treated as `np.float64 == np.dtype(float).type`.\n",
      "  from ._conv import register_converters as _register_converters\n",
      "Using TensorFlow backend.\n"
     ]
    }
   ],
   "source": [
    "import cv2\n",
    "import glob\n",
    "import os\n",
    "import random\n",
    "from random import randint\n",
    "import math\n",
    "import matplotlib.pyplot as plt\n",
    "import numpy as np\n",
    "import tensorflow as tf\n",
    "from keras.backend.tensorflow_backend import set_session\n",
    "from keras.models import Sequential\n",
    "from keras.layers import Conv2D, Flatten, Dense, MaxPooling2D, Dropout\n",
    "from keras.utils.np_utils import to_categorical\n",
    "from keras import optimizers, regularizers\n",
    "from keras import losses\n",
    "import h5py"
   ]
  },
  {
   "cell_type": "markdown",
   "metadata": {
    "collapsed": true
   },
   "source": [
    "### Set session"
   ]
  },
  {
   "cell_type": "code",
   "execution_count": 2,
   "metadata": {
    "collapsed": true
   },
   "outputs": [],
   "source": [
    "config = tf.ConfigProto()\n",
    "set_session(tf.Session(config=config))"
   ]
  },
  {
   "cell_type": "markdown",
   "metadata": {},
   "source": [
    "### Import data"
   ]
  },
  {
   "cell_type": "code",
   "execution_count": 7,
   "metadata": {
    "collapsed": true
   },
   "outputs": [],
   "source": [
    "X_train = []\n",
    "x_label = []\n",
    "for img_class, directory in enumerate(['red', 'yellow', 'green', 'none']):\n",
    "    for i, file_name in enumerate(glob.glob(\"{}/*.jpg\".format(directory))):\n",
    "        file = cv2.imread(file_name)\n",
    "\n",
    "        file = cv2.cvtColor(file, cv2.COLOR_BGR2RGB);\n",
    "        resized = cv2.resize(file, (32,32))\n",
    "\n",
    "        X_train.append(resized/255.)\n",
    "        x_label.append(img_class)\n",
    "        \n",
    "X_train = np.array(X_train)\n",
    "x_label = np.array(x_label)"
   ]
  },
  {
   "cell_type": "code",
   "execution_count": null,
   "metadata": {},
   "outputs": [],
   "source": []
  },
  {
   "cell_type": "code",
   "execution_count": 11,
   "metadata": {},
   "outputs": [],
   "source": [
    "labels = to_categorical(x_label)"
   ]
  },
  {
   "cell_type": "code",
   "execution_count": 8,
   "metadata": {
    "collapsed": true
   },
   "outputs": [],
   "source": [
    "num_classes = 4\n",
    "model = Sequential()\n",
    "model.add(Conv2D(32, (3, 3), input_shape=(32, 32, 3), padding='same', activation='relu', kernel_initializer='random_uniform', kernel_regularizer=regularizers.l2(0.01)))\n",
    "\n",
    "model.add(Conv2D(32, (32, 16), padding='same', activation='relu', kernel_initializer='random_uniform', kernel_regularizer=regularizers.l2(0.01)))\n",
    "\n",
    "model.add(Conv2D(30, (30, 16), padding='same', activation='relu', kernel_initializer='random_uniform', kernel_regularizer=regularizers.l2(0.01)))\n",
    "\n",
    "model.add(MaxPooling2D(2,2))\n",
    "\n",
    "model.add(Flatten())\n",
    "\n",
    "model.add(Dense(3136, activation='relu', kernel_initializer='random_uniform', kernel_regularizer=regularizers.l2(0.1)))\n",
    "\n",
    "model.add(Dense(128, activation='relu', kernel_initializer='random_uniform', kernel_regularizer=regularizers.l2(0.1)))\n",
    "\n",
    "model.add(Dense(num_classes, activation='softmax'))"
   ]
  },
  {
   "cell_type": "code",
   "execution_count": null,
   "metadata": {
    "collapsed": true
   },
   "outputs": [],
   "source": []
  },
  {
   "cell_type": "code",
   "execution_count": 9,
   "metadata": {},
   "outputs": [
    {
     "name": "stdout",
     "output_type": "stream",
     "text": [
      "Train on 330 samples, validate on 37 samples\n",
      "Epoch 1/40\n",
      "330/330 [==============================] - 93s - loss: 1564.3367 - acc: 0.3242 - val_loss: 1008.1225 - val_acc: 0.0000e+00\n",
      "Epoch 2/40\n",
      "330/330 [==============================] - 99s - loss: 726.7110 - acc: 0.4061 - val_loss: 426.0033 - val_acc: 0.0000e+00\n",
      "Epoch 3/40\n",
      "330/330 [==============================] - 93s - loss: 290.6808 - acc: 0.6182 - val_loss: 155.1207 - val_acc: 0.0000e+00\n",
      "Epoch 4/40\n",
      "330/330 [==============================] - 92s - loss: 99.9753 - acc: 0.7364 - val_loss: 49.2017 - val_acc: 0.0000e+00\n",
      "Epoch 5/40\n",
      "330/330 [==============================] - 99s - loss: 30.2350 - acc: 0.8455 - val_loss: 15.1160 - val_acc: 0.1351\n",
      "Epoch 6/40\n",
      "330/330 [==============================] - 87s - loss: 9.3268 - acc: 0.8788 - val_loss: 6.4850 - val_acc: 0.0000e+00\n",
      "Epoch 7/40\n",
      "330/330 [==============================] - 101s - loss: 4.1406 - acc: 0.8636 - val_loss: 4.8089 - val_acc: 0.0000e+00\n",
      "Epoch 8/40\n",
      "330/330 [==============================] - 96s - loss: 2.7805 - acc: 0.8848 - val_loss: 4.0683 - val_acc: 0.0000e+00\n",
      "Epoch 9/40\n",
      "330/330 [==============================] - 88s - loss: 2.2175 - acc: 0.9061 - val_loss: 4.0719 - val_acc: 0.0270\n",
      "Epoch 10/40\n",
      "330/330 [==============================] - 93s - loss: 1.8182 - acc: 0.9242 - val_loss: 2.6182 - val_acc: 0.5946\n",
      "Epoch 11/40\n",
      "330/330 [==============================] - 80s - loss: 1.5322 - acc: 0.9515 - val_loss: 3.4138 - val_acc: 0.0811\n",
      "Epoch 12/40\n",
      "330/330 [==============================] - 84s - loss: 1.6345 - acc: 0.8848 - val_loss: 2.5416 - val_acc: 0.0270\n",
      "Epoch 13/40\n",
      "330/330 [==============================] - 85s - loss: 1.4766 - acc: 0.9030 - val_loss: 2.5646 - val_acc: 0.0811\n",
      "Epoch 14/40\n",
      "330/330 [==============================] - 84s - loss: 1.2478 - acc: 0.9394 - val_loss: 1.8804 - val_acc: 0.8378\n",
      "Epoch 15/40\n",
      "330/330 [==============================] - 82s - loss: 1.1465 - acc: 0.9152 - val_loss: 3.2237 - val_acc: 0.0270\n",
      "Epoch 16/40\n",
      "330/330 [==============================] - 80s - loss: 1.0830 - acc: 0.9394 - val_loss: 2.1514 - val_acc: 0.3514\n",
      "Epoch 17/40\n",
      "330/330 [==============================] - 84s - loss: 0.9369 - acc: 0.9727 - val_loss: 2.0455 - val_acc: 0.3784\n",
      "Epoch 18/40\n",
      "330/330 [==============================] - 86s - loss: 0.8304 - acc: 0.9576 - val_loss: 1.4632 - val_acc: 0.8919\n",
      "Epoch 19/40\n",
      "330/330 [==============================] - 80s - loss: 0.7370 - acc: 0.9818 - val_loss: 1.6372 - val_acc: 0.3784\n",
      "Epoch 20/40\n",
      "330/330 [==============================] - 80s - loss: 0.6690 - acc: 0.9848 - val_loss: 0.9094 - val_acc: 1.0000\n",
      "Epoch 21/40\n",
      "330/330 [==============================] - 79s - loss: 0.6656 - acc: 0.9576 - val_loss: 1.3696 - val_acc: 0.8378\n",
      "Epoch 22/40\n",
      "330/330 [==============================] - 79s - loss: 0.5991 - acc: 0.9818 - val_loss: 0.9045 - val_acc: 0.9730\n",
      "Epoch 23/40\n",
      "330/330 [==============================] - 80s - loss: 0.5217 - acc: 0.9970 - val_loss: 1.1821 - val_acc: 0.7297\n",
      "Epoch 24/40\n",
      "330/330 [==============================] - 79s - loss: 0.4769 - acc: 0.9909 - val_loss: 1.2195 - val_acc: 0.7297\n",
      "Epoch 25/40\n",
      "330/330 [==============================] - 79s - loss: 0.4926 - acc: 0.9818 - val_loss: 1.1938 - val_acc: 0.7838\n",
      "Epoch 26/40\n",
      "330/330 [==============================] - 82s - loss: 0.4834 - acc: 0.9909 - val_loss: 1.4123 - val_acc: 0.6486\n",
      "Epoch 27/40\n",
      "330/330 [==============================] - 81s - loss: 0.4226 - acc: 0.9970 - val_loss: 1.0346 - val_acc: 0.7297\n",
      "Epoch 28/40\n",
      "330/330 [==============================] - 80s - loss: 0.4917 - acc: 0.9788 - val_loss: 1.3455 - val_acc: 0.7568\n",
      "Epoch 29/40\n",
      "330/330 [==============================] - 80s - loss: 0.4475 - acc: 0.9939 - val_loss: 1.3919 - val_acc: 0.7297\n",
      "Epoch 30/40\n",
      "330/330 [==============================] - 80s - loss: 0.4016 - acc: 0.9879 - val_loss: 1.0423 - val_acc: 0.8108\n",
      "Epoch 31/40\n",
      "330/330 [==============================] - 80s - loss: 0.3536 - acc: 0.9939 - val_loss: 0.6415 - val_acc: 0.8108\n",
      "Epoch 32/40\n",
      "330/330 [==============================] - 79s - loss: 0.3417 - acc: 0.9879 - val_loss: 0.9441 - val_acc: 0.7568\n",
      "Epoch 33/40\n",
      "330/330 [==============================] - 80s - loss: 0.3316 - acc: 0.9939 - val_loss: 0.8827 - val_acc: 0.8108\n",
      "Epoch 34/40\n",
      "330/330 [==============================] - 80s - loss: 0.2986 - acc: 0.9970 - val_loss: 0.9814 - val_acc: 0.7027\n",
      "Epoch 35/40\n",
      "330/330 [==============================] - 80s - loss: 0.3049 - acc: 0.9848 - val_loss: 0.5798 - val_acc: 0.8919\n",
      "Epoch 36/40\n",
      "330/330 [==============================] - 80s - loss: 0.3110 - acc: 0.9818 - val_loss: 1.0698 - val_acc: 0.7838\n",
      "Epoch 37/40\n",
      "330/330 [==============================] - 80s - loss: 0.2802 - acc: 0.9939 - val_loss: 0.8073 - val_acc: 0.7838\n",
      "Epoch 38/40\n",
      "330/330 [==============================] - 79s - loss: 0.2603 - acc: 1.0000 - val_loss: 0.6369 - val_acc: 0.8378\n",
      "Epoch 39/40\n",
      "330/330 [==============================] - 80s - loss: 0.2437 - acc: 0.9970 - val_loss: 0.5201 - val_acc: 0.8919\n",
      "Epoch 40/40\n",
      "330/330 [==============================] - 80s - loss: 0.2268 - acc: 1.0000 - val_loss: 0.5108 - val_acc: 0.8919\n",
      "[0.24304767419921605, 0.9891008176011026]\n"
     ]
    }
   ],
   "source": [
    "loss = losses.categorical_crossentropy\n",
    "optimizer = optimizers.Adam()\n",
    "\n",
    "model.compile(loss=loss, optimizer=optimizer, metrics=['accuracy'])\n",
    "\n",
    "model.fit(X_train, labels, batch_size=32, epochs=40, verbose=True, validation_split=0.1, shuffle=True)\n",
    "\n",
    "score = model.evaluate(X_train, labels, verbose=0)\n",
    "\n",
    "print(score)"
   ]
  },
  {
   "cell_type": "code",
   "execution_count": 10,
   "metadata": {
    "collapsed": true
   },
   "outputs": [],
   "source": [
    "model.save('tl_classifier_simulator_one.h5')"
   ]
  },
  {
   "cell_type": "code",
   "execution_count": null,
   "metadata": {},
   "outputs": [],
   "source": []
  },
  {
   "cell_type": "code",
   "execution_count": null,
   "metadata": {
    "collapsed": true
   },
   "outputs": [],
   "source": [
    "\n"
   ]
  },
  {
   "cell_type": "code",
   "execution_count": null,
   "metadata": {
    "collapsed": true
   },
   "outputs": [],
   "source": []
  },
  {
   "cell_type": "code",
   "execution_count": null,
   "metadata": {
    "collapsed": true
   },
   "outputs": [],
   "source": []
  },
  {
   "cell_type": "code",
   "execution_count": null,
   "metadata": {
    "collapsed": true
   },
   "outputs": [],
   "source": []
  },
  {
   "cell_type": "code",
   "execution_count": null,
   "metadata": {
    "collapsed": true
   },
   "outputs": [],
   "source": []
  },
  {
   "cell_type": "code",
   "execution_count": null,
   "metadata": {
    "collapsed": true
   },
   "outputs": [],
   "source": []
  },
  {
   "cell_type": "code",
   "execution_count": null,
   "metadata": {
    "collapsed": true
   },
   "outputs": [],
   "source": []
  },
  {
   "cell_type": "code",
   "execution_count": null,
   "metadata": {
    "collapsed": true
   },
   "outputs": [],
   "source": []
  },
  {
   "cell_type": "code",
   "execution_count": null,
   "metadata": {
    "collapsed": true
   },
   "outputs": [],
   "source": []
  },
  {
   "cell_type": "code",
   "execution_count": null,
   "metadata": {
    "collapsed": true
   },
   "outputs": [],
   "source": []
  }
 ],
 "metadata": {
  "kernelspec": {
   "display_name": "Python 3",
   "language": "python",
   "name": "python3"
  },
  "language_info": {
   "codemirror_mode": {
    "name": "ipython",
    "version": 3
   },
   "file_extension": ".py",
   "mimetype": "text/x-python",
   "name": "python",
   "nbconvert_exporter": "python",
   "pygments_lexer": "ipython3",
   "version": "3.5.2"
  },
  "widgets": {
   "state": {},
   "version": "1.1.2"
  }
 },
 "nbformat": 4,
 "nbformat_minor": 2
}
